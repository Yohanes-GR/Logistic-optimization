{
 "cells": [
  {
   "cell_type": "markdown",
   "metadata": {},
   "source": [
    "### Exploratory Data Analysis of delivery-drivers-location Dataset"
   ]
  },
  {
   "cell_type": "code",
   "execution_count": 69,
   "metadata": {},
   "outputs": [],
   "source": [
    "# importing packages \n",
    "import os, sys, warnings\n",
    "import pandas as pd\n",
    "import seaborn as sns\n",
    "import matplotlib.pyplot as plt\n",
    "\n",
    "warnings.simplefilter(action='ignore', category=FutureWarning)\n",
    "pd.set_option('display.float_format', lambda x: '%.3f' % x)\n",
    "pd.options.mode.chained_assignment = None  # default='warn'\n",
    "plt.rcParams[\"figure.figsize\"] = (12, 7)\n",
    "pd.set_option('display.max_columns', None)\n",
    "\n",
    "warnings.filterwarnings('ignore')\n",
    "sns.set_style(\"darkgrid\")\n",
    "%matplotlib inline"
   ]
  },
  {
   "cell_type": "code",
   "execution_count": 70,
   "metadata": {},
   "outputs": [],
   "source": [
    "sys.path.append('../scripts/')\n",
    "from df_preproc import DataCleaning\n",
    "from df_extraction import DataExtraction\n",
    "dclean = DataCleaning()\n",
    "dextract = DataExtraction()"
   ]
  },
  {
   "cell_type": "markdown",
   "metadata": {},
   "source": [
    "#### Load the Dataset"
   ]
  },
  {
   "cell_type": "code",
   "execution_count": 71,
   "metadata": {},
   "outputs": [],
   "source": [
    "# table contain information about the completed orders\n",
    "df1= dextract.load_data(\"../data/nb.csv\")"
   ]
  },
  {
   "cell_type": "code",
   "execution_count": 72,
   "metadata": {},
   "outputs": [],
   "source": [
    "#table that contains delivery requests by clients (completed and unfulfilled) \n",
    "df2 = dextract.load_data(\"../data/driver_locations_during_request.csv\")"
   ]
  },
  {
   "cell_type": "markdown",
   "metadata": {},
   "source": [
    "#### Information about the Data"
   ]
  },
  {
   "cell_type": "code",
   "execution_count": 73,
   "metadata": {},
   "outputs": [
    {
     "data": {
      "text/plain": [
       "Index(['Trip ID', 'Trip Origin', 'Trip Destination', 'Trip Start Time',\n",
       "       'Trip End Time'],\n",
       "      dtype='object')"
      ]
     },
     "execution_count": 73,
     "metadata": {},
     "output_type": "execute_result"
    }
   ],
   "source": [
    "#### Information about the Data\n",
    "df1.columns"
   ]
  },
  {
   "cell_type": "code",
   "execution_count": 74,
   "metadata": {},
   "outputs": [
    {
     "name": "stdout",
     "output_type": "stream",
     "text": [
      "<class 'pandas.core.frame.DataFrame'>\n",
      "RangeIndex: 536020 entries, 0 to 536019\n",
      "Data columns (total 5 columns):\n",
      " #   Column            Non-Null Count   Dtype \n",
      "---  ------            --------------   ----- \n",
      " 0   Trip ID           536020 non-null  int64 \n",
      " 1   Trip Origin       536020 non-null  object\n",
      " 2   Trip Destination  536020 non-null  object\n",
      " 3   Trip Start Time   534369 non-null  object\n",
      " 4   Trip End Time     536019 non-null  object\n",
      "dtypes: int64(1), object(4)\n",
      "memory usage: 20.4+ MB\n"
     ]
    }
   ],
   "source": [
    "df1.info()"
   ]
  },
  {
   "cell_type": "code",
   "execution_count": 75,
   "metadata": {},
   "outputs": [
    {
     "data": {
      "text/plain": [
       "Trip ID                0\n",
       "Trip Origin            0\n",
       "Trip Destination       0\n",
       "Trip Start Time     1651\n",
       "Trip End Time          1\n",
       "dtype: int64"
      ]
     },
     "execution_count": 75,
     "metadata": {},
     "output_type": "execute_result"
    }
   ],
   "source": [
    "# checking missing value\n",
    "df1.isna().sum()"
   ]
  },
  {
   "cell_type": "markdown",
   "metadata": {},
   "source": [
    "around 1651 on  Trip Start Time  have missing values "
   ]
  },
  {
   "cell_type": "code",
   "execution_count": 77,
   "metadata": {},
   "outputs": [
    {
     "data": {
      "text/html": [
       "<div>\n",
       "<style scoped>\n",
       "    .dataframe tbody tr th:only-of-type {\n",
       "        vertical-align: middle;\n",
       "    }\n",
       "\n",
       "    .dataframe tbody tr th {\n",
       "        vertical-align: top;\n",
       "    }\n",
       "\n",
       "    .dataframe thead th {\n",
       "        text-align: right;\n",
       "    }\n",
       "</style>\n",
       "<table border=\"1\" class=\"dataframe\">\n",
       "  <thead>\n",
       "    <tr style=\"text-align: right;\">\n",
       "      <th></th>\n",
       "      <th>Trip ID</th>\n",
       "      <th>Trip Origin</th>\n",
       "      <th>Trip Destination</th>\n",
       "      <th>Trip Start Time</th>\n",
       "      <th>Trip End Time</th>\n",
       "    </tr>\n",
       "  </thead>\n",
       "  <tbody>\n",
       "    <tr>\n",
       "      <th>0</th>\n",
       "      <td>391996</td>\n",
       "      <td>6.508813001668548,3.37740316890347</td>\n",
       "      <td>6.650969799999999,3.3450307</td>\n",
       "      <td>2021-07-01 07:28:04</td>\n",
       "      <td>2021-07-01 07:29:37</td>\n",
       "    </tr>\n",
       "    <tr>\n",
       "      <th>1</th>\n",
       "      <td>391997</td>\n",
       "      <td>6.4316714,3.4555375</td>\n",
       "      <td>6.4280814653326,3.4721885847586</td>\n",
       "      <td>2021-07-01 06:38:04</td>\n",
       "      <td>2021-07-01 07:07:28</td>\n",
       "    </tr>\n",
       "    <tr>\n",
       "      <th>2</th>\n",
       "      <td>391998</td>\n",
       "      <td>6.631679399999999,3.3388976</td>\n",
       "      <td>6.508324099999999,3.3590397</td>\n",
       "      <td>2021-07-01 06:21:02</td>\n",
       "      <td>2021-07-01 07:02:23</td>\n",
       "    </tr>\n",
       "    <tr>\n",
       "      <th>3</th>\n",
       "      <td>391999</td>\n",
       "      <td>6.572757200000001,3.3677082</td>\n",
       "      <td>6.584881099999999,3.3614073</td>\n",
       "      <td>2021-07-01 07:16:07</td>\n",
       "      <td>2021-07-01 07:29:42</td>\n",
       "    </tr>\n",
       "    <tr>\n",
       "      <th>4</th>\n",
       "      <td>392001</td>\n",
       "      <td>6.6010417,3.2766339</td>\n",
       "      <td>6.4501069,3.3916154</td>\n",
       "      <td>2021-07-01 09:30:59</td>\n",
       "      <td>2021-07-01 09:34:36</td>\n",
       "    </tr>\n",
       "  </tbody>\n",
       "</table>\n",
       "</div>"
      ],
      "text/plain": [
       "   Trip ID                         Trip Origin  \\\n",
       "0   391996  6.508813001668548,3.37740316890347   \n",
       "1   391997                 6.4316714,3.4555375   \n",
       "2   391998         6.631679399999999,3.3388976   \n",
       "3   391999         6.572757200000001,3.3677082   \n",
       "4   392001                 6.6010417,3.2766339   \n",
       "\n",
       "                  Trip Destination      Trip Start Time        Trip End Time  \n",
       "0      6.650969799999999,3.3450307  2021-07-01 07:28:04  2021-07-01 07:29:37  \n",
       "1  6.4280814653326,3.4721885847586  2021-07-01 06:38:04  2021-07-01 07:07:28  \n",
       "2      6.508324099999999,3.3590397  2021-07-01 06:21:02  2021-07-01 07:02:23  \n",
       "3      6.584881099999999,3.3614073  2021-07-01 07:16:07  2021-07-01 07:29:42  \n",
       "4              6.4501069,3.3916154  2021-07-01 09:30:59  2021-07-01 09:34:36  "
      ]
     },
     "execution_count": 77,
     "metadata": {},
     "output_type": "execute_result"
    }
   ],
   "source": [
    "df1.head()"
   ]
  },
  {
   "cell_type": "code",
   "execution_count": 78,
   "metadata": {},
   "outputs": [
    {
     "data": {
      "text/plain": [
       "Index(['id', 'order_id', 'driver_id', 'driver_action', 'lat', 'lng',\n",
       "       'created_at', 'updated_at'],\n",
       "      dtype='object')"
      ]
     },
     "execution_count": 78,
     "metadata": {},
     "output_type": "execute_result"
    }
   ],
   "source": [
    "df2.columns"
   ]
  },
  {
   "cell_type": "code",
   "execution_count": 79,
   "metadata": {},
   "outputs": [
    {
     "name": "stdout",
     "output_type": "stream",
     "text": [
      "<class 'pandas.core.frame.DataFrame'>\n",
      "RangeIndex: 1557740 entries, 0 to 1557739\n",
      "Data columns (total 8 columns):\n",
      " #   Column         Non-Null Count    Dtype  \n",
      "---  ------         --------------    -----  \n",
      " 0   id             1557740 non-null  int64  \n",
      " 1   order_id       1557740 non-null  int64  \n",
      " 2   driver_id      1557740 non-null  int64  \n",
      " 3   driver_action  1557740 non-null  object \n",
      " 4   lat            1557740 non-null  float64\n",
      " 5   lng            1557740 non-null  float64\n",
      " 6   created_at     0 non-null        float64\n",
      " 7   updated_at     0 non-null        float64\n",
      "dtypes: float64(4), int64(3), object(1)\n",
      "memory usage: 95.1+ MB\n"
     ]
    }
   ],
   "source": [
    "df2.info()"
   ]
  },
  {
   "cell_type": "code",
   "execution_count": 80,
   "metadata": {},
   "outputs": [
    {
     "data": {
      "text/plain": [
       "id                     0\n",
       "order_id               0\n",
       "driver_id              0\n",
       "driver_action          0\n",
       "lat                    0\n",
       "lng                    0\n",
       "created_at       1557740\n",
       "updated_at       1557740\n",
       "dtype: int64"
      ]
     },
     "execution_count": 80,
     "metadata": {},
     "output_type": "execute_result"
    }
   ],
   "source": [
    "# checking missing value\n",
    "df2.isna().sum()"
   ]
  },
  {
   "cell_type": "code",
   "execution_count": 98,
   "metadata": {},
   "outputs": [
    {
     "data": {
      "text/plain": [
       "(1557740, 8)"
      ]
     },
     "execution_count": 98,
     "metadata": {},
     "output_type": "execute_result"
    }
   ],
   "source": [
    "df2.shape"
   ]
  },
  {
   "cell_type": "code",
   "execution_count": 81,
   "metadata": {},
   "outputs": [
    {
     "data": {
      "text/html": [
       "<div>\n",
       "<style scoped>\n",
       "    .dataframe tbody tr th:only-of-type {\n",
       "        vertical-align: middle;\n",
       "    }\n",
       "\n",
       "    .dataframe tbody tr th {\n",
       "        vertical-align: top;\n",
       "    }\n",
       "\n",
       "    .dataframe thead th {\n",
       "        text-align: right;\n",
       "    }\n",
       "</style>\n",
       "<table border=\"1\" class=\"dataframe\">\n",
       "  <thead>\n",
       "    <tr style=\"text-align: right;\">\n",
       "      <th></th>\n",
       "      <th>id</th>\n",
       "      <th>order_id</th>\n",
       "      <th>driver_id</th>\n",
       "      <th>driver_action</th>\n",
       "      <th>lat</th>\n",
       "      <th>lng</th>\n",
       "      <th>created_at</th>\n",
       "      <th>updated_at</th>\n",
       "    </tr>\n",
       "  </thead>\n",
       "  <tbody>\n",
       "    <tr>\n",
       "      <th>0</th>\n",
       "      <td>1</td>\n",
       "      <td>392001</td>\n",
       "      <td>243828</td>\n",
       "      <td>accepted</td>\n",
       "      <td>6.602</td>\n",
       "      <td>3.270</td>\n",
       "      <td>NaN</td>\n",
       "      <td>NaN</td>\n",
       "    </tr>\n",
       "    <tr>\n",
       "      <th>1</th>\n",
       "      <td>2</td>\n",
       "      <td>392001</td>\n",
       "      <td>243588</td>\n",
       "      <td>rejected</td>\n",
       "      <td>6.592</td>\n",
       "      <td>3.287</td>\n",
       "      <td>NaN</td>\n",
       "      <td>NaN</td>\n",
       "    </tr>\n",
       "    <tr>\n",
       "      <th>2</th>\n",
       "      <td>3</td>\n",
       "      <td>392001</td>\n",
       "      <td>243830</td>\n",
       "      <td>rejected</td>\n",
       "      <td>6.596</td>\n",
       "      <td>3.282</td>\n",
       "      <td>NaN</td>\n",
       "      <td>NaN</td>\n",
       "    </tr>\n",
       "    <tr>\n",
       "      <th>3</th>\n",
       "      <td>4</td>\n",
       "      <td>392001</td>\n",
       "      <td>243539</td>\n",
       "      <td>rejected</td>\n",
       "      <td>6.596</td>\n",
       "      <td>3.281</td>\n",
       "      <td>NaN</td>\n",
       "      <td>NaN</td>\n",
       "    </tr>\n",
       "    <tr>\n",
       "      <th>4</th>\n",
       "      <td>5</td>\n",
       "      <td>392001</td>\n",
       "      <td>171653</td>\n",
       "      <td>rejected</td>\n",
       "      <td>6.609</td>\n",
       "      <td>3.289</td>\n",
       "      <td>NaN</td>\n",
       "      <td>NaN</td>\n",
       "    </tr>\n",
       "  </tbody>\n",
       "</table>\n",
       "</div>"
      ],
      "text/plain": [
       "   id  order_id  driver_id driver_action   lat   lng  created_at  updated_at\n",
       "0   1    392001     243828      accepted 6.602 3.270         NaN         NaN\n",
       "1   2    392001     243588      rejected 6.592 3.287         NaN         NaN\n",
       "2   3    392001     243830      rejected 6.596 3.282         NaN         NaN\n",
       "3   4    392001     243539      rejected 6.596 3.281         NaN         NaN\n",
       "4   5    392001     171653      rejected 6.609 3.289         NaN         NaN"
      ]
     },
     "execution_count": 81,
     "metadata": {},
     "output_type": "execute_result"
    }
   ],
   "source": [
    "df2.head()"
   ]
  },
  {
   "cell_type": "code",
   "execution_count": 83,
   "metadata": {},
   "outputs": [
    {
     "data": {
      "text/html": [
       "<div>\n",
       "<style scoped>\n",
       "    .dataframe tbody tr th:only-of-type {\n",
       "        vertical-align: middle;\n",
       "    }\n",
       "\n",
       "    .dataframe tbody tr th {\n",
       "        vertical-align: top;\n",
       "    }\n",
       "\n",
       "    .dataframe thead th {\n",
       "        text-align: right;\n",
       "    }\n",
       "</style>\n",
       "<table border=\"1\" class=\"dataframe\">\n",
       "  <thead>\n",
       "    <tr style=\"text-align: right;\">\n",
       "      <th></th>\n",
       "      <th>Unique %</th>\n",
       "    </tr>\n",
       "  </thead>\n",
       "  <tbody>\n",
       "    <tr>\n",
       "      <th>Trip ID</th>\n",
       "      <td>100.000</td>\n",
       "    </tr>\n",
       "    <tr>\n",
       "      <th>Trip Origin</th>\n",
       "      <td>20.920</td>\n",
       "    </tr>\n",
       "    <tr>\n",
       "      <th>Trip Destination</th>\n",
       "      <td>27.520</td>\n",
       "    </tr>\n",
       "    <tr>\n",
       "      <th>Trip Start Time</th>\n",
       "      <td>95.620</td>\n",
       "    </tr>\n",
       "    <tr>\n",
       "      <th>Trip End Time</th>\n",
       "      <td>95.860</td>\n",
       "    </tr>\n",
       "  </tbody>\n",
       "</table>\n",
       "</div>"
      ],
      "text/plain": [
       "                  Unique %\n",
       "Trip ID            100.000\n",
       "Trip Origin         20.920\n",
       "Trip Destination    27.520\n",
       "Trip Start Time     95.620\n",
       "Trip End Time       95.860"
      ]
     },
     "execution_count": 83,
     "metadata": {},
     "output_type": "execute_result"
    }
   ],
   "source": [
    "percentage = round(df1.nunique()*100/df1.shape[0],2)\n",
    "percentage_df=pd.DataFrame(percentage,columns=[\"Unique %\"])\n",
    "percentage_df.head()"
   ]
  },
  {
   "cell_type": "code",
   "execution_count": 84,
   "metadata": {},
   "outputs": [
    {
     "data": {
      "image/png": "[encoded data removed]",
      "text/plain": [
       "<Figure size 1200x700 with 1 Axes>"
      ]
     },
     "metadata": {},
     "output_type": "display_data"
    }
   ],
   "source": [
    "percentage_df.plot(kind='bar',rot=20,grid=True,legend=False)\n",
    "plt.show()"
   ]
  },
  {
   "cell_type": "code",
   "execution_count": 51,
   "metadata": {},
   "outputs": [],
   "source": [
    "# merge two tables based on order_id and Trip_id\n",
    "df = df2.merge(df1, how='inner', left_on='order_id',right_on=\"Trip ID\")"
   ]
  },
  {
   "cell_type": "code",
   "execution_count": 50,
   "metadata": {},
   "outputs": [
    {
     "data": {
      "text/plain": [
       "Index(['id', 'order_id', 'driver_id', 'driver_action', 'lat', 'lng',\n",
       "       'created_at', 'updated_at', 'Trip ID', 'Trip Origin',\n",
       "       'Trip Destination', 'Trip Start Time', 'Trip End Time'],\n",
       "      dtype='object')"
      ]
     },
     "execution_count": 50,
     "metadata": {},
     "output_type": "execute_result"
    }
   ],
   "source": [
    "df.columns"
   ]
  },
  {
   "cell_type": "code",
   "execution_count": 52,
   "metadata": {},
   "outputs": [
    {
     "data": {
      "text/plain": [
       "<bound method DataFrame.info of               id  order_id  driver_id driver_action   lat   lng  created_at  \\\n",
       "0              1    392001     243828      accepted 6.602 3.270         NaN   \n",
       "1              2    392001     243588      rejected 6.592 3.287         NaN   \n",
       "2              3    392001     243830      rejected 6.596 3.282         NaN   \n",
       "3              4    392001     243539      rejected 6.596 3.281         NaN   \n",
       "4              5    392001     171653      rejected 6.609 3.289         NaN   \n",
       "...          ...       ...        ...           ...   ...   ...         ...   \n",
       "1557735  1557736    517948     243774      rejected 6.469 3.567         NaN   \n",
       "1557736  1557737    517948     245447      rejected 6.425 3.527         NaN   \n",
       "1557737  1557738    517948     239866      rejected 6.440 3.525         NaN   \n",
       "1557738  1557739    517948     243774      rejected 6.469 3.567         NaN   \n",
       "1557739  1557740    517948     244170      rejected 6.469 3.572         NaN   \n",
       "\n",
       "         updated_at  Trip ID                  Trip Origin  \\\n",
       "0               NaN   392001          6.6010417,3.2766339   \n",
       "1               NaN   392001          6.6010417,3.2766339   \n",
       "2               NaN   392001          6.6010417,3.2766339   \n",
       "3               NaN   392001          6.6010417,3.2766339   \n",
       "4               NaN   392001          6.6010417,3.2766339   \n",
       "...             ...      ...                          ...   \n",
       "1557735         NaN   517948  6.443373599999999,3.5523123   \n",
       "1557736         NaN   517948  6.443373599999999,3.5523123   \n",
       "1557737         NaN   517948  6.443373599999999,3.5523123   \n",
       "1557738         NaN   517948  6.443373599999999,3.5523123   \n",
       "1557739         NaN   517948  6.443373599999999,3.5523123   \n",
       "\n",
       "                    Trip Destination      Trip Start Time        Trip End Time  \n",
       "0                6.4501069,3.3916154  2021-07-01 09:30:59  2021-07-01 09:34:36  \n",
       "1                6.4501069,3.3916154  2021-07-01 09:30:59  2021-07-01 09:34:36  \n",
       "2                6.4501069,3.3916154  2021-07-01 09:30:59  2021-07-01 09:34:36  \n",
       "3                6.4501069,3.3916154  2021-07-01 09:30:59  2021-07-01 09:34:36  \n",
       "4                6.4501069,3.3916154  2021-07-01 09:30:59  2021-07-01 09:34:36  \n",
       "...                              ...                  ...                  ...  \n",
       "1557735  6.500608199999999,3.5981937  2021-09-10 11:47:26  2021-09-10 13:30:13  \n",
       "1557736  6.500608199999999,3.5981937  2021-09-10 11:47:26  2021-09-10 13:30:13  \n",
       "1557737  6.500608199999999,3.5981937  2021-09-10 11:47:26  2021-09-10 13:30:13  \n",
       "1557738  6.500608199999999,3.5981937  2021-09-10 11:47:26  2021-09-10 13:30:13  \n",
       "1557739  6.500608199999999,3.5981937  2021-09-10 11:47:26  2021-09-10 13:30:13  \n",
       "\n",
       "[1557740 rows x 13 columns]>"
      ]
     },
     "execution_count": 52,
     "metadata": {},
     "output_type": "execute_result"
    }
   ],
   "source": [
    "df.info"
   ]
  },
  {
   "cell_type": "code",
   "execution_count": 53,
   "metadata": {},
   "outputs": [
    {
     "data": {
      "text/html": [
       "<div>\n",
       "<style scoped>\n",
       "    .dataframe tbody tr th:only-of-type {\n",
       "        vertical-align: middle;\n",
       "    }\n",
       "\n",
       "    .dataframe tbody tr th {\n",
       "        vertical-align: top;\n",
       "    }\n",
       "\n",
       "    .dataframe thead th {\n",
       "        text-align: right;\n",
       "    }\n",
       "</style>\n",
       "<table border=\"1\" class=\"dataframe\">\n",
       "  <thead>\n",
       "    <tr style=\"text-align: right;\">\n",
       "      <th></th>\n",
       "      <th>id</th>\n",
       "      <th>order_id</th>\n",
       "      <th>driver_id</th>\n",
       "      <th>driver_action</th>\n",
       "      <th>lat</th>\n",
       "      <th>lng</th>\n",
       "      <th>created_at</th>\n",
       "      <th>updated_at</th>\n",
       "      <th>Trip ID</th>\n",
       "      <th>Trip Origin</th>\n",
       "      <th>Trip Destination</th>\n",
       "      <th>Trip Start Time</th>\n",
       "      <th>Trip End Time</th>\n",
       "    </tr>\n",
       "  </thead>\n",
       "  <tbody>\n",
       "    <tr>\n",
       "      <th>0</th>\n",
       "      <td>1</td>\n",
       "      <td>392001</td>\n",
       "      <td>243828</td>\n",
       "      <td>accepted</td>\n",
       "      <td>6.602</td>\n",
       "      <td>3.270</td>\n",
       "      <td>NaN</td>\n",
       "      <td>NaN</td>\n",
       "      <td>392001</td>\n",
       "      <td>6.6010417,3.2766339</td>\n",
       "      <td>6.4501069,3.3916154</td>\n",
       "      <td>2021-07-01 09:30:59</td>\n",
       "      <td>2021-07-01 09:34:36</td>\n",
       "    </tr>\n",
       "    <tr>\n",
       "      <th>1</th>\n",
       "      <td>2</td>\n",
       "      <td>392001</td>\n",
       "      <td>243588</td>\n",
       "      <td>rejected</td>\n",
       "      <td>6.592</td>\n",
       "      <td>3.287</td>\n",
       "      <td>NaN</td>\n",
       "      <td>NaN</td>\n",
       "      <td>392001</td>\n",
       "      <td>6.6010417,3.2766339</td>\n",
       "      <td>6.4501069,3.3916154</td>\n",
       "      <td>2021-07-01 09:30:59</td>\n",
       "      <td>2021-07-01 09:34:36</td>\n",
       "    </tr>\n",
       "    <tr>\n",
       "      <th>2</th>\n",
       "      <td>3</td>\n",
       "      <td>392001</td>\n",
       "      <td>243830</td>\n",
       "      <td>rejected</td>\n",
       "      <td>6.596</td>\n",
       "      <td>3.282</td>\n",
       "      <td>NaN</td>\n",
       "      <td>NaN</td>\n",
       "      <td>392001</td>\n",
       "      <td>6.6010417,3.2766339</td>\n",
       "      <td>6.4501069,3.3916154</td>\n",
       "      <td>2021-07-01 09:30:59</td>\n",
       "      <td>2021-07-01 09:34:36</td>\n",
       "    </tr>\n",
       "    <tr>\n",
       "      <th>3</th>\n",
       "      <td>4</td>\n",
       "      <td>392001</td>\n",
       "      <td>243539</td>\n",
       "      <td>rejected</td>\n",
       "      <td>6.596</td>\n",
       "      <td>3.281</td>\n",
       "      <td>NaN</td>\n",
       "      <td>NaN</td>\n",
       "      <td>392001</td>\n",
       "      <td>6.6010417,3.2766339</td>\n",
       "      <td>6.4501069,3.3916154</td>\n",
       "      <td>2021-07-01 09:30:59</td>\n",
       "      <td>2021-07-01 09:34:36</td>\n",
       "    </tr>\n",
       "    <tr>\n",
       "      <th>4</th>\n",
       "      <td>5</td>\n",
       "      <td>392001</td>\n",
       "      <td>171653</td>\n",
       "      <td>rejected</td>\n",
       "      <td>6.609</td>\n",
       "      <td>3.289</td>\n",
       "      <td>NaN</td>\n",
       "      <td>NaN</td>\n",
       "      <td>392001</td>\n",
       "      <td>6.6010417,3.2766339</td>\n",
       "      <td>6.4501069,3.3916154</td>\n",
       "      <td>2021-07-01 09:30:59</td>\n",
       "      <td>2021-07-01 09:34:36</td>\n",
       "    </tr>\n",
       "  </tbody>\n",
       "</table>\n",
       "</div>"
      ],
      "text/plain": [
       "   id  order_id  driver_id driver_action   lat   lng  created_at  updated_at  \\\n",
       "0   1    392001     243828      accepted 6.602 3.270         NaN         NaN   \n",
       "1   2    392001     243588      rejected 6.592 3.287         NaN         NaN   \n",
       "2   3    392001     243830      rejected 6.596 3.282         NaN         NaN   \n",
       "3   4    392001     243539      rejected 6.596 3.281         NaN         NaN   \n",
       "4   5    392001     171653      rejected 6.609 3.289         NaN         NaN   \n",
       "\n",
       "   Trip ID          Trip Origin     Trip Destination      Trip Start Time  \\\n",
       "0   392001  6.6010417,3.2766339  6.4501069,3.3916154  2021-07-01 09:30:59   \n",
       "1   392001  6.6010417,3.2766339  6.4501069,3.3916154  2021-07-01 09:30:59   \n",
       "2   392001  6.6010417,3.2766339  6.4501069,3.3916154  2021-07-01 09:30:59   \n",
       "3   392001  6.6010417,3.2766339  6.4501069,3.3916154  2021-07-01 09:30:59   \n",
       "4   392001  6.6010417,3.2766339  6.4501069,3.3916154  2021-07-01 09:30:59   \n",
       "\n",
       "         Trip End Time  \n",
       "0  2021-07-01 09:34:36  \n",
       "1  2021-07-01 09:34:36  \n",
       "2  2021-07-01 09:34:36  \n",
       "3  2021-07-01 09:34:36  \n",
       "4  2021-07-01 09:34:36  "
      ]
     },
     "execution_count": 53,
     "metadata": {},
     "output_type": "execute_result"
    }
   ],
   "source": [
    "df.head()"
   ]
  },
  {
   "cell_type": "code",
   "execution_count": 56,
   "metadata": {},
   "outputs": [
    {
     "data": {
      "text/plain": [
       "id                        0\n",
       "order_id                  0\n",
       "driver_id                 0\n",
       "driver_action             0\n",
       "lat                       0\n",
       "lng                       0\n",
       "created_at          1557740\n",
       "updated_at          1557740\n",
       "Trip ID                   0\n",
       "Trip Origin               0\n",
       "Trip Destination          0\n",
       "Trip Start Time        2022\n",
       "Trip End Time             0\n",
       "dtype: int64"
      ]
     },
     "execution_count": 56,
     "metadata": {},
     "output_type": "execute_result"
    }
   ],
   "source": [
    "#check null values\n",
    "df.isnull().sum()"
   ]
  },
  {
   "cell_type": "code",
   "execution_count": 57,
   "metadata": {},
   "outputs": [],
   "source": [
    "#Drop columns with null values created_at and updated_at  \n",
    "columns = ['created_at', 'updated_at']\n",
    "df.drop(columns, inplace=True, axis=1)\n"
   ]
  },
  {
   "cell_type": "code",
   "execution_count": 68,
   "metadata": {},
   "outputs": [
    {
     "data": {
      "text/plain": [
       "rejected    1531837\n",
       "accepted      25903\n",
       "Name: driver_action, dtype: int64"
      ]
     },
     "execution_count": 68,
     "metadata": {},
     "output_type": "execute_result"
    }
   ],
   "source": [
    "# unique value counts of driver_action\n",
    "counts_df = df['driver_action'].value_counts()\n",
    "counts_df"
   ]
  },
  {
   "cell_type": "code",
   "execution_count": 85,
   "metadata": {},
   "outputs": [],
   "source": [
    "# First we have to change the columns to appropriate datatype : date\n",
    "\n",
    "def change_to_date(df:pd.DataFrame,columns:list):\n",
    "    for column in columns:\n",
    "        df[column] = pd.to_datetime(df[column])\n",
    "    return df\n"
   ]
  },
  {
   "cell_type": "code",
   "execution_count": 86,
   "metadata": {},
   "outputs": [],
   "source": [
    "def calculate_duration(df:pd.DataFrame,start_col_name,end_col_name):\n",
    "    df[\"duration\"]= (df[end_col_name] - df[start_col_name]).astype('timedelta64[m]')\n",
    "    return df\n"
   ]
  },
  {
   "cell_type": "code",
   "execution_count": 88,
   "metadata": {},
   "outputs": [
    {
     "name": "stdout",
     "output_type": "stream",
     "text": [
      "<class 'pandas.core.frame.DataFrame'>\n",
      "RangeIndex: 536020 entries, 0 to 536019\n",
      "Data columns (total 5 columns):\n",
      " #   Column            Non-Null Count   Dtype         \n",
      "---  ------            --------------   -----         \n",
      " 0   Trip ID           536020 non-null  int64         \n",
      " 1   Trip Origin       536020 non-null  object        \n",
      " 2   Trip Destination  536020 non-null  object        \n",
      " 3   Trip Start Time   534369 non-null  datetime64[ns]\n",
      " 4   Trip End Time     536019 non-null  datetime64[ns]\n",
      "dtypes: datetime64[ns](2), int64(1), object(2)\n",
      "memory usage: 20.4+ MB\n"
     ]
    }
   ],
   "source": [
    "complete_orders_correct_format=df1.copy()\n",
    "complete_orders_correct_format=change_to_date(complete_orders_correct_format,[\"Trip Start Time\",\"Trip End Time\"])\n",
    "complete_orders_correct_format.info()"
   ]
  },
  {
   "cell_type": "code",
   "execution_count": 89,
   "metadata": {},
   "outputs": [
    {
     "data": {
      "text/plain": [
       "Trip ID                0\n",
       "Trip Origin            0\n",
       "Trip Destination       0\n",
       "Trip Start Time     1651\n",
       "Trip End Time          1\n",
       "duration            1652\n",
       "dtype: int64"
      ]
     },
     "execution_count": 89,
     "metadata": {},
     "output_type": "execute_result"
    }
   ],
   "source": [
    "complete_orders_correct_format=calculate_duration(complete_orders_correct_format,\"Trip Start Time\",\"Trip End Time\")\n",
    "complete_orders_correct_format.isna().sum()"
   ]
  },
  {
   "cell_type": "code",
   "execution_count": 90,
   "metadata": {},
   "outputs": [
    {
     "data": {
      "image/png": "[encoded data removed]",
      "text/plain": [
       "<Figure size 1200x700 with 1 Axes>"
      ]
     },
     "metadata": {},
     "output_type": "display_data"
    }
   ],
   "source": [
    "complete_orders_correct_format[[\"duration\"]].plot.hist(bins=10, range=(0,350))\n",
    "plt.show()"
   ]
  },
  {
   "cell_type": "markdown",
   "metadata": {},
   "source": [
    "### Filling Missing Values"
   ]
  },
  {
   "cell_type": "code",
   "execution_count": 92,
   "metadata": {},
   "outputs": [],
   "source": [
    "def fill_missing(df: pd.DataFrame, method: str,columns: list) -> pd.DataFrame:\n",
    "        \"\"\"\n",
    "        fill missing values with specified method\n",
    "        \"\"\"\n",
    "        if method == \"mean\":\n",
    "            for col in columns:\n",
    "                df[col].fillna(df[col].mean(), inplace=True)\n",
    "\n",
    "        elif method == \"median\":\n",
    "            for col in columns:\n",
    "                df[col].fillna(df[col].median(), inplace=True)\n",
    "        else:\n",
    "            print(\"Method unknown\")\n",
    "        return df"
   ]
  },
  {
   "cell_type": "code",
   "execution_count": 96,
   "metadata": {},
   "outputs": [
    {
     "name": "stdout",
     "output_type": "stream",
     "text": [
      "<class 'pandas.core.frame.DataFrame'>\n",
      "RangeIndex: 536020 entries, 0 to 536019\n",
      "Data columns (total 6 columns):\n",
      " #   Column            Non-Null Count   Dtype         \n",
      "---  ------            --------------   -----         \n",
      " 0   Trip ID           536020 non-null  int64         \n",
      " 1   Trip Origin       536020 non-null  object        \n",
      " 2   Trip Destination  536020 non-null  object        \n",
      " 3   Trip Start Time   534369 non-null  datetime64[ns]\n",
      " 4   Trip End Time     536019 non-null  datetime64[ns]\n",
      " 5   duration          536020 non-null  float64       \n",
      "dtypes: datetime64[ns](2), float64(1), int64(1), object(2)\n",
      "memory usage: 24.5+ MB\n"
     ]
    }
   ],
   "source": [
    "complete_cleaned = complete_orders_correct_format.copy()\n",
    "complete_cleaned = fill_missing(complete_cleaned,\"median\",[\"duration\"])\n",
    "complete_cleaned.info()"
   ]
  },
  {
   "cell_type": "code",
   "execution_count": 94,
   "metadata": {},
   "outputs": [],
   "source": [
    "def get_start_time(df:pd.DataFrame,start_col:str,end_col:str,duration_col):\n",
    "    fill_values=  df.apply(lambda x:x[end_col] - pd.Timedelta(minutes=x[duration_col]),axis=1)\n",
    "    # return fill_values\n",
    "    df[start_col].fillna(fill_values,inplace=True)\n",
    "    return df \n",
    "\n",
    "def get_end_time(df:pd.DataFrame,start_col:str,end_col:str,duration_col):\n",
    "    fill_values=  df.apply(lambda x:x[start_col] + pd.Timedelta(minutes=x[duration_col]),axis=1)\n",
    "    # return fill_values\n",
    "    df[end_col].fillna(fill_values,inplace=True)\n",
    "    return df "
   ]
  },
  {
   "cell_type": "code",
   "execution_count": 97,
   "metadata": {},
   "outputs": [
    {
     "data": {
      "text/plain": [
       "Trip ID             0\n",
       "Trip Origin         0\n",
       "Trip Destination    0\n",
       "Trip Start Time     0\n",
       "Trip End Time       0\n",
       "duration            0\n",
       "dtype: int64"
      ]
     },
     "execution_count": 97,
     "metadata": {},
     "output_type": "execute_result"
    }
   ],
   "source": [
    "complete_cleaned = get_start_time(complete_cleaned,\"Trip Start Time\",\"Trip End Time\",\"duration\")\n",
    "complete_cleaned = get_end_time(complete_cleaned,\"Trip Start Time\",\"Trip End Time\",\"duration\")\n",
    "complete_cleaned.isna().sum()"
   ]
  },
  {
   "cell_type": "code",
   "execution_count": null,
   "metadata": {},
   "outputs": [],
   "source": [
    "# id 530900 had null value for trip end time\n",
    "complete_cleaned[complete_cleaned[\"Trip ID\"]==530900]"
   ]
  },
  {
   "cell_type": "code",
   "execution_count": 61,
   "metadata": {},
   "outputs": [
    {
     "data": {
      "text/plain": [
       "<AxesSubplot: xlabel='driver_action', ylabel='count'>"
      ]
     },
     "execution_count": 61,
     "metadata": {},
     "output_type": "execute_result"
    },
    {
     "data": {
      "image/png": "[encoded data removed]",
      "text/plain": [
       "<Figure size 1200x700 with 1 Axes>"
      ]
     },
     "metadata": {},
     "output_type": "display_data"
    }
   ],
   "source": [
    "#Count Plot\n",
    "sns.countplot(x=\"driver_action\", data=df)"
   ]
  },
  {
   "cell_type": "code",
   "execution_count": 15,
   "metadata": {},
   "outputs": [
    {
     "data": {
      "text/plain": []
     },
     "execution_count": 15,
     "metadata": {},
     "output_type": "execute_result"
    }
   ],
   "source": [
    "plt.style.use('ggplot')\n",
    "from multiprocessing.reduction import DupFd\n",
    "import pandas_profiling\n",
    "pandas_profiling.ProfileReport(DupFd)"
   ]
  },
  {
   "cell_type": "code",
   "execution_count": 16,
   "metadata": {},
   "outputs": [],
   "source": [
    "# separate latitide and longitide from the same column \n",
    "df['Trip_Origin_lat'] = df['Trip Origin'].apply(lambda x: str(x).split(',')[0])\n",
    "df['Trip_Origin_lng'] = df['Trip Origin'].apply(lambda x: str(x).split(',')[1])"
   ]
  },
  {
   "cell_type": "code",
   "execution_count": 17,
   "metadata": {},
   "outputs": [],
   "source": [
    "# separate latitide and longitide from the same column \n",
    "df['Trip_Destination_lat'] = df['Trip Destination'].apply(lambda x: str(x).split(',')[0])\n",
    "df['Trip_Destination_lng'] = df['Trip Destination'].apply(lambda x: str(x).split(',')[1])"
   ]
  },
  {
   "cell_type": "code",
   "execution_count": 18,
   "metadata": {},
   "outputs": [],
   "source": [
    "from geopy import distance\n",
    "#let's find the distance between origin and destination\n",
    "df['distance']=df.apply(lambda x:distance.distance((x[\"Trip_Origin_lat\"],x[\"Trip_Origin_lng\"]), \n",
    "(x[\"Trip_Destination_lat\"],x[\"Trip_Destination_lng\"])).km,axis=1)"
   ]
  },
  {
   "cell_type": "code",
   "execution_count": 19,
   "metadata": {},
   "outputs": [
    {
     "data": {
      "image/png": "[encoded data removed]",
      "text/plain": [
       "<Figure size 1500x500 with 1 Axes>"
      ]
     },
     "metadata": {},
     "output_type": "display_data"
    }
   ],
   "source": [
    "#let's check the pattern of 'distance between origin and destination'\n",
    "plt.rcParams['figure.figsize']=15,5\n",
    "plt.subplot(122)\n",
    "sns.distplot(df['distance'], color='blue')\n",
    "\n",
    "plt.suptitle('Distance')\n",
    "plt.show()"
   ]
  },
  {
   "cell_type": "code",
   "execution_count": null,
   "metadata": {},
   "outputs": [],
   "source": []
  }
 ],
 "metadata": {
  "kernelspec": {
   "display_name": "Python 3.10.6 64-bit",
   "language": "python",
   "name": "python3"
  },
  "language_info": {
   "codemirror_mode": {
    "name": "ipython",
    "version": 3
   },
   "file_extension": ".py",
   "mimetype": "text/x-python",
   "name": "python",
   "nbconvert_exporter": "python",
   "pygments_lexer": "ipython3",
   "version": "3.10.6"
  },
  "orig_nbformat": 4,
  "vscode": {
   "interpreter": {
    "hash": "916dbcbb3f70747c44a77c7bcd40155683ae19c65e1c03b4aa3499c5328201f1"
   }
  }
 },
 "nbformat": 4,
 "nbformat_minor": 2
}
